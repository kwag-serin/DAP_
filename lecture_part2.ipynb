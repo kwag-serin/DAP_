{
  "cells": [
    {
      "cell_type": "markdown",
      "metadata": {
        "id": "view-in-github",
        "colab_type": "text"
      },
      "source": [
        "<a href=\"https://colab.research.google.com/github/kwag-serin/DAP_/blob/main/lecture_part2.ipynb\" target=\"_parent\"><img src=\"https://colab.research.google.com/assets/colab-badge.svg\" alt=\"Open In Colab\"/></a>"
      ]
    },
    {
      "cell_type": "code",
      "execution_count": null,
      "id": "59078141-dad2-49a9-bcfb-951749701183",
      "metadata": {
        "id": "59078141-dad2-49a9-bcfb-951749701183",
        "outputId": "47498e2a-11b4-4a2d-fd7d-6c0be8ae34ce"
      },
      "outputs": [
        {
          "name": "stdout",
          "output_type": "stream",
          "text": [
            "[[False False False False False]\n",
            " [False False False False False]\n",
            " [False False False False False]\n",
            " [False False False False False]\n",
            " [False False False False False]]\n"
          ]
        }
      ],
      "source": [
        "import numpy as np\n",
        "\n",
        "# Input\n",
        "arr_size = (5, 5)\n",
        "\n",
        "# Solution\n",
        "bool_arr = np.full((5, 5), False)\n",
        "\n",
        "# Print\n",
        "print(bool_arr)"
      ]
    },
    {
      "cell_type": "code",
      "execution_count": null,
      "id": "4643766b-b84d-4bd4-8b19-cabb2524e367",
      "metadata": {
        "id": "4643766b-b84d-4bd4-8b19-cabb2524e367",
        "outputId": "e7c8f54d-6af6-4ae1-8663-b4fb59b2b5fd"
      },
      "outputs": [
        {
          "name": "stdout",
          "output_type": "stream",
          "text": [
            "[[0. 0. 0. 1. 0. 0. 0.]\n",
            " [0. 0. 0. 0. 1. 0. 0.]\n",
            " [0. 0. 0. 0. 0. 1. 0.]\n",
            " [0. 0. 0. 0. 0. 0. 1.]\n",
            " [0. 0. 0. 0. 0. 0. 0.]\n",
            " [0. 0. 0. 0. 0. 0. 0.]\n",
            " [0. 0. 0. 0. 0. 0. 0.]]\n"
          ]
        }
      ],
      "source": [
        "# Input\n",
        "size = 7\n",
        "\n",
        "# Solution\n",
        "np_arr = np.eye(7, k=3)\n",
        "\n",
        "# Print\n",
        "print(np_arr)"
      ]
    },
    {
      "cell_type": "code",
      "execution_count": null,
      "id": "a1ec6e76-6f45-489c-aa06-f7fb63927419",
      "metadata": {
        "id": "a1ec6e76-6f45-489c-aa06-f7fb63927419",
        "outputId": "d93e9acd-55b6-4ccb-df6e-0e8f102a1acd"
      },
      "outputs": [
        {
          "name": "stdout",
          "output_type": "stream",
          "text": [
            "[ 0  2  4  6  8 10 12 14 16 18 20 22 24 26 28 30 32 34]\n"
          ]
        }
      ],
      "source": [
        "# Input\n",
        "arr = np.arange(35)\n",
        "\n",
        "# Solution\n",
        "arr = np.arange(0, 35, 2)\n",
        "\n",
        "# Print\n",
        "print(arr)"
      ]
    },
    {
      "cell_type": "code",
      "execution_count": null,
      "id": "8aae7cca-4e85-4ff1-974d-0c0473b6d5bb",
      "metadata": {
        "id": "8aae7cca-4e85-4ff1-974d-0c0473b6d5bb",
        "outputId": "b5132ec8-6348-4d0f-f5ab-1c331c6ab9b0"
      },
      "outputs": [
        {
          "name": "stdout",
          "output_type": "stream",
          "text": [
            "(array([0, 4, 7, 9], dtype=int64),)\n"
          ]
        }
      ],
      "source": [
        "# Input\n",
        "a = np.array([1, 7, 3, 2, 3, 5, 3, 4, 5, 8, 2, 6, 9])\n",
        "b = np.array([1, 2, 10, 8, 3, 4, 9, 4, 9, 8, 5, 3, 5])\n",
        "\n",
        "# Solution\n",
        "idx = np.where(a == b)\n",
        "\n",
        "# Print\n",
        "print(idx)"
      ]
    },
    {
      "cell_type": "code",
      "execution_count": null,
      "id": "a25af4cb-a9fa-432a-8a16-e17f4e69cc0d",
      "metadata": {
        "id": "a25af4cb-a9fa-432a-8a16-e17f4e69cc0d",
        "outputId": "9798e7f8-58ed-4860-b931-2d534c43a299"
      },
      "outputs": [
        {
          "name": "stdout",
          "output_type": "stream",
          "text": [
            "4.0 2.373422864698694 4.461538461538462\n"
          ]
        }
      ],
      "source": [
        "# Input\n",
        "url = 'https://archive.ics.uci.edu/ml/machine-learning-databases/iris/iris.data'\n",
        "iris = np.genfromtxt(url, delimiter=',', dtype='object')\n",
        "sepallength = np.genfromtxt(url, delimiter=',', dtype='float', usecols=[0])\n",
        "\n",
        "# Solution\n",
        "med, std, avg = np.median(a), np.std(a), np.mean(a)\n",
        "\n",
        "# Print\n",
        "print(med, std, avg)"
      ]
    },
    {
      "cell_type": "code",
      "execution_count": null,
      "id": "d03489e0-3631-4e23-8d1c-2a6d8fbed241",
      "metadata": {
        "id": "d03489e0-3631-4e23-8d1c-2a6d8fbed241",
        "outputId": "f8607eef-60a1-4bd2-c4aa-4988f99bced2"
      },
      "outputs": [
        {
          "ename": "SyntaxError",
          "evalue": "invalid syntax (Temp/ipykernel_20952/737647188.py, line 11)",
          "output_type": "error",
          "traceback": [
            "\u001b[1;36m  File \u001b[1;32m\"C:\\Users\\b2uty\\AppData\\Local\\Temp/ipykernel_20952/737647188.py\"\u001b[1;36m, line \u001b[1;32m11\u001b[0m\n\u001b[1;33m    unique_positions = ###########################\u001b[0m\n\u001b[1;37m                       ^\u001b[0m\n\u001b[1;31mSyntaxError\u001b[0m\u001b[1;31m:\u001b[0m invalid syntax\n"
          ]
        }
      ],
      "source": [
        "# Input\n",
        "np.random.seed(50)\n",
        "a = np.random.randint(0, 10, 10)\n",
        "print('Array: ', a)\n",
        "\n",
        "# Solution\n",
        "## Create an all True array\n",
        "out = np.unique(a)\n",
        "\n",
        "## Find the index positions of unique elements\n",
        "unique_positions = ###########################\n",
        "\n",
        "## Mark those positions as False\n",
        "out[unique_positions] = ###########\n",
        "\n",
        "print('Duplicate entrie: ', out)"
      ]
    },
    {
      "cell_type": "code",
      "execution_count": null,
      "id": "67af213a-e898-49a9-846d-89901b668ee3",
      "metadata": {
        "id": "67af213a-e898-49a9-846d-89901b668ee3",
        "outputId": "aa657f6e-d9ca-4613-ccb7-e9b6a2489151"
      },
      "outputs": [
        {
          "name": "stdout",
          "output_type": "stream",
          "text": [
            "    0\n",
            "21  v\n",
            "22  w\n",
            "23  x\n",
            "24  y\n",
            "25  z\n"
          ]
        }
      ],
      "source": [
        "import pandas as pd\n",
        "\n",
        "# Input\n",
        "ser1 = pd.Series(list('abcedfghijklmnopqrstuvwxyz'))\n",
        "ser2 = pd.Series(np.arange(26))\n",
        "\n",
        "# Solution \n",
        "df = pd.DataFrame(ser1, ser2)\n",
        "\n",
        "# Print\n",
        "print(df.tail())"
      ]
    },
    {
      "cell_type": "code",
      "execution_count": null,
      "id": "e82c893d-079b-4265-80f2-943135c50d9d",
      "metadata": {
        "id": "e82c893d-079b-4265-80f2-943135c50d9d",
        "outputId": "827cf3d5-4867-429e-b048-d7034b8fd16d"
      },
      "outputs": [
        {
          "name": "stdout",
          "output_type": "stream",
          "text": [
            "  Manufacturer    Model     Type  Min.Price  Price  Max.Price  MPG.city  \\\n",
            "0        Acura  Integra    Small       12.9   15.9       18.8      25.0   \n",
            "1          NaN   Legend  Midsize       29.2   33.9       38.7      18.0   \n",
            "2         Audi       90  Compact       25.9   29.1       32.3      20.0   \n",
            "3         Audi      100  Midsize        NaN   37.7       44.6      19.0   \n",
            "4          BMW     535i  Midsize        NaN   30.0        NaN      22.0   \n",
            "\n",
            "   MPG.highway             AirBags DriveTrain  ... Passengers  Length  \\\n",
            "0         31.0                None      Front  ...        5.0   177.0   \n",
            "1         25.0  Driver & Passenger      Front  ...        5.0   195.0   \n",
            "2         26.0         Driver only      Front  ...        5.0   180.0   \n",
            "3         26.0  Driver & Passenger        NaN  ...        6.0   193.0   \n",
            "4         30.0                 NaN       Rear  ...        4.0   186.0   \n",
            "\n",
            "   Wheelbase  Width  Turn.circle Rear.seat.room  Luggage.room  Weight  \\\n",
            "0      102.0   68.0         37.0           26.5           NaN  2705.0   \n",
            "1      115.0   71.0         38.0           30.0          15.0  3560.0   \n",
            "2      102.0   67.0         37.0           28.0          14.0  3375.0   \n",
            "3      106.0    NaN         37.0           31.0          17.0  3405.0   \n",
            "4      109.0   69.0         39.0           27.0          13.0  3640.0   \n",
            "\n",
            "    Origin           Make  \n",
            "0  non-USA  Acura Integra  \n",
            "1  non-USA   Acura Legend  \n",
            "2  non-USA        Audi 90  \n",
            "3  non-USA       Audi 100  \n",
            "4  non-USA       BMW 535i  \n",
            "\n",
            "[5 rows x 27 columns]\n",
            "\n",
            "Is there any missing value?:     Manufacturer  Model   Type  Min.Price  Price  Max.Price  MPG.city  \\\n",
            "0          False  False  False      False  False      False     False   \n",
            "1           True  False  False      False  False      False     False   \n",
            "2          False  False  False      False  False      False     False   \n",
            "3          False  False  False       True  False      False     False   \n",
            "4          False  False  False       True  False       True     False   \n",
            "..           ...    ...    ...        ...    ...        ...       ...   \n",
            "88         False  False  False      False  False      False     False   \n",
            "89         False  False  False      False  False      False     False   \n",
            "90         False  False  False      False  False      False     False   \n",
            "91         False  False  False      False  False      False     False   \n",
            "92          True  False  False      False  False      False     False   \n",
            "\n",
            "    MPG.highway  AirBags  DriveTrain  ...  Passengers  Length  Wheelbase  \\\n",
            "0         False    False       False  ...       False   False      False   \n",
            "1         False    False       False  ...       False   False      False   \n",
            "2         False    False       False  ...       False   False      False   \n",
            "3         False    False        True  ...       False   False      False   \n",
            "4         False     True       False  ...       False   False      False   \n",
            "..          ...      ...         ...  ...         ...     ...        ...   \n",
            "88        False    False       False  ...       False   False      False   \n",
            "89        False    False       False  ...       False   False      False   \n",
            "90        False    False       False  ...       False   False      False   \n",
            "91        False    False       False  ...       False   False      False   \n",
            "92        False    False       False  ...       False   False      False   \n",
            "\n",
            "    Width  Turn.circle  Rear.seat.room  Luggage.room  Weight  Origin   Make  \n",
            "0   False        False           False          True   False   False  False  \n",
            "1   False        False           False         False   False   False  False  \n",
            "2   False        False           False         False   False   False  False  \n",
            "3    True        False           False         False   False   False  False  \n",
            "4   False        False           False         False   False   False  False  \n",
            "..    ...          ...             ...           ...     ...     ...    ...  \n",
            "88  False        False           False          True   False    True  False  \n",
            "89  False        False           False         False   False   False  False  \n",
            "90  False        False           False         False   False   False  False  \n",
            "91  False        False           False         False   False   False  False  \n",
            "92  False        False           False         False   False   False  False  \n",
            "\n",
            "[93 rows x 27 columns]\n"
          ]
        }
      ],
      "source": [
        "# Input\n",
        "df = pd.read_csv('https://raw.githubusercontent.com/selva86/datasets/master/Cars93_miss.csv')\n",
        "print(df.head())\n",
        "\n",
        "# Solution\n",
        "print('\\nIs there any missing value?:', df.isnull())"
      ]
    },
    {
      "cell_type": "code",
      "execution_count": null,
      "id": "89c54f8f-a1e0-4172-b758-3b9f996aa944",
      "metadata": {
        "id": "89c54f8f-a1e0-4172-b758-3b9f996aa944",
        "outputId": "c108c46b-54a2-4d62-98c9-7e103934bfac"
      },
      "outputs": [
        {
          "name": "stdout",
          "output_type": "stream",
          "text": [
            "0   2022-09-05\n",
            "1   2022-09-12\n",
            "2   2022-09-19\n",
            "3   2022-09-26\n",
            "4   2022-10-03\n",
            "5   2022-10-10\n",
            "6   2022-10-17\n",
            "dtype: datetime64[ns]\n"
          ]
        }
      ],
      "source": [
        "# Solution\n",
        "ser = pd.Series(pd.date_range(start='2022-09-01', end='2022-10-17', freq='W-MON' ))\n",
        "print(ser)"
      ]
    },
    {
      "cell_type": "code",
      "execution_count": null,
      "id": "864a073f-9be7-49e5-9534-2165d45bb6da",
      "metadata": {
        "id": "864a073f-9be7-49e5-9534-2165d45bb6da",
        "outputId": "be0991c9-8115-4424-be83-80efb3018e3b"
      },
      "outputs": [
        {
          "data": {
            "text/plain": [
              "fruit\n",
              "apple        13.0\n",
              "banana       12.0\n",
              "blueberry    15.0\n",
              "melon         7.0\n",
              "orange       11.0\n",
              "Name: price, dtype: float64"
            ]
          },
          "execution_count": 14,
          "metadata": {},
          "output_type": "execute_result"
        }
      ],
      "source": [
        "# Input\n",
        "df = pd.DataFrame({'fruit': ['apple', 'banana', 'orange', 'blueberry', 'melon'] * 5,\n",
        "                   'rating': np.random.rand(25),\n",
        "                   'price': np.random.randint(0, 20, 25)})\n",
        "\n",
        "# Solution\n",
        "df.groupby(\"fruit\")['price'].median()"
      ]
    },
    {
      "cell_type": "code",
      "execution_count": null,
      "id": "05428add-b093-4528-9f96-991f797ca20f",
      "metadata": {
        "id": "05428add-b093-4528-9f96-991f797ca20f",
        "outputId": "7307aeb7-f4dd-402a-dcad-3aab4f434735"
      },
      "outputs": [
        {
          "data": {
            "text/html": [
              "<div>\n",
              "<style scoped>\n",
              "    .dataframe tbody tr th:only-of-type {\n",
              "        vertical-align: middle;\n",
              "    }\n",
              "\n",
              "    .dataframe tbody tr th {\n",
              "        vertical-align: top;\n",
              "    }\n",
              "\n",
              "    .dataframe thead th {\n",
              "        text-align: right;\n",
              "    }\n",
              "</style>\n",
              "<table border=\"1\" class=\"dataframe\">\n",
              "  <thead>\n",
              "    <tr style=\"text-align: right;\">\n",
              "      <th></th>\n",
              "      <th>outgoing_mins_per_month</th>\n",
              "      <th>outgoing_sms_per_month</th>\n",
              "      <th>monthly_mb</th>\n",
              "      <th>use_id</th>\n",
              "      <th>user_id</th>\n",
              "      <th>platform</th>\n",
              "      <th>platform_version</th>\n",
              "      <th>device</th>\n",
              "      <th>use_type_id</th>\n",
              "    </tr>\n",
              "  </thead>\n",
              "  <tbody>\n",
              "    <tr>\n",
              "      <th>0</th>\n",
              "      <td>21.97</td>\n",
              "      <td>4.82</td>\n",
              "      <td>1557.33</td>\n",
              "      <td>22787</td>\n",
              "      <td>12921</td>\n",
              "      <td>android</td>\n",
              "      <td>4.3</td>\n",
              "      <td>GT-I9505</td>\n",
              "      <td>1</td>\n",
              "    </tr>\n",
              "    <tr>\n",
              "      <th>1</th>\n",
              "      <td>1710.08</td>\n",
              "      <td>136.88</td>\n",
              "      <td>7267.55</td>\n",
              "      <td>22788</td>\n",
              "      <td>28714</td>\n",
              "      <td>android</td>\n",
              "      <td>6.0</td>\n",
              "      <td>SM-G930F</td>\n",
              "      <td>1</td>\n",
              "    </tr>\n",
              "    <tr>\n",
              "      <th>2</th>\n",
              "      <td>1710.08</td>\n",
              "      <td>136.88</td>\n",
              "      <td>7267.55</td>\n",
              "      <td>22789</td>\n",
              "      <td>28714</td>\n",
              "      <td>android</td>\n",
              "      <td>6.0</td>\n",
              "      <td>SM-G930F</td>\n",
              "      <td>1</td>\n",
              "    </tr>\n",
              "    <tr>\n",
              "      <th>3</th>\n",
              "      <td>94.46</td>\n",
              "      <td>35.17</td>\n",
              "      <td>519.12</td>\n",
              "      <td>22790</td>\n",
              "      <td>29592</td>\n",
              "      <td>android</td>\n",
              "      <td>5.1</td>\n",
              "      <td>D2303</td>\n",
              "      <td>1</td>\n",
              "    </tr>\n",
              "    <tr>\n",
              "      <th>4</th>\n",
              "      <td>71.59</td>\n",
              "      <td>79.26</td>\n",
              "      <td>1557.33</td>\n",
              "      <td>22792</td>\n",
              "      <td>28217</td>\n",
              "      <td>android</td>\n",
              "      <td>5.1</td>\n",
              "      <td>SM-G361F</td>\n",
              "      <td>1</td>\n",
              "    </tr>\n",
              "    <tr>\n",
              "      <th>...</th>\n",
              "      <td>...</td>\n",
              "      <td>...</td>\n",
              "      <td>...</td>\n",
              "      <td>...</td>\n",
              "      <td>...</td>\n",
              "      <td>...</td>\n",
              "      <td>...</td>\n",
              "      <td>...</td>\n",
              "      <td>...</td>\n",
              "    </tr>\n",
              "    <tr>\n",
              "      <th>154</th>\n",
              "      <td>198.59</td>\n",
              "      <td>90.49</td>\n",
              "      <td>5191.12</td>\n",
              "      <td>23043</td>\n",
              "      <td>28953</td>\n",
              "      <td>android</td>\n",
              "      <td>6.0</td>\n",
              "      <td>SM-G900F</td>\n",
              "      <td>1</td>\n",
              "    </tr>\n",
              "    <tr>\n",
              "      <th>155</th>\n",
              "      <td>198.59</td>\n",
              "      <td>90.49</td>\n",
              "      <td>3114.67</td>\n",
              "      <td>23044</td>\n",
              "      <td>28953</td>\n",
              "      <td>android</td>\n",
              "      <td>6.0</td>\n",
              "      <td>SM-G900F</td>\n",
              "      <td>1</td>\n",
              "    </tr>\n",
              "    <tr>\n",
              "      <th>156</th>\n",
              "      <td>106.65</td>\n",
              "      <td>82.13</td>\n",
              "      <td>5191.12</td>\n",
              "      <td>23046</td>\n",
              "      <td>29454</td>\n",
              "      <td>android</td>\n",
              "      <td>6.0</td>\n",
              "      <td>Moto G (4)</td>\n",
              "      <td>1</td>\n",
              "    </tr>\n",
              "    <tr>\n",
              "      <th>157</th>\n",
              "      <td>344.53</td>\n",
              "      <td>20.53</td>\n",
              "      <td>519.12</td>\n",
              "      <td>23049</td>\n",
              "      <td>29725</td>\n",
              "      <td>android</td>\n",
              "      <td>6.0</td>\n",
              "      <td>SM-G900F</td>\n",
              "      <td>1</td>\n",
              "    </tr>\n",
              "    <tr>\n",
              "      <th>158</th>\n",
              "      <td>42.75</td>\n",
              "      <td>46.83</td>\n",
              "      <td>5191.12</td>\n",
              "      <td>23053</td>\n",
              "      <td>20257</td>\n",
              "      <td>android</td>\n",
              "      <td>5.1</td>\n",
              "      <td>Vodafone Smart ultra 6</td>\n",
              "      <td>1</td>\n",
              "    </tr>\n",
              "  </tbody>\n",
              "</table>\n",
              "<p>159 rows × 9 columns</p>\n",
              "</div>"
            ],
            "text/plain": [
              "     outgoing_mins_per_month  outgoing_sms_per_month  monthly_mb  use_id  \\\n",
              "0                      21.97                    4.82     1557.33   22787   \n",
              "1                    1710.08                  136.88     7267.55   22788   \n",
              "2                    1710.08                  136.88     7267.55   22789   \n",
              "3                      94.46                   35.17      519.12   22790   \n",
              "4                      71.59                   79.26     1557.33   22792   \n",
              "..                       ...                     ...         ...     ...   \n",
              "154                   198.59                   90.49     5191.12   23043   \n",
              "155                   198.59                   90.49     3114.67   23044   \n",
              "156                   106.65                   82.13     5191.12   23046   \n",
              "157                   344.53                   20.53      519.12   23049   \n",
              "158                    42.75                   46.83     5191.12   23053   \n",
              "\n",
              "     user_id platform  platform_version                  device  use_type_id  \n",
              "0      12921  android               4.3                GT-I9505            1  \n",
              "1      28714  android               6.0                SM-G930F            1  \n",
              "2      28714  android               6.0                SM-G930F            1  \n",
              "3      29592  android               5.1                   D2303            1  \n",
              "4      28217  android               5.1                SM-G361F            1  \n",
              "..       ...      ...               ...                     ...          ...  \n",
              "154    28953  android               6.0                SM-G900F            1  \n",
              "155    28953  android               6.0                SM-G900F            1  \n",
              "156    29454  android               6.0              Moto G (4)            1  \n",
              "157    29725  android               6.0                SM-G900F            1  \n",
              "158    20257  android               5.1  Vodafone Smart ultra 6            1  \n",
              "\n",
              "[159 rows x 9 columns]"
            ]
          },
          "execution_count": 22,
          "metadata": {},
          "output_type": "execute_result"
        }
      ],
      "source": [
        "# Input\n",
        "base_path = 'https://raw.githubusercontent.com/shanealynn/Pandas-Merge-Tutorial/master/'\n",
        "df1 = pd.read_csv(base_path + 'user_usage.csv')\n",
        "df2 = pd.read_csv(base_path + 'user_device.csv')\n",
        "\n",
        "# Solution\n",
        "pd.merge(df1, df2, on='use_id')"
      ]
    },
    {
      "cell_type": "code",
      "execution_count": null,
      "id": "6a485e76-56ee-43bc-ab4f-e7d036423239",
      "metadata": {
        "id": "6a485e76-56ee-43bc-ab4f-e7d036423239"
      },
      "outputs": [],
      "source": []
    }
  ],
  "metadata": {
    "kernelspec": {
      "display_name": "Python 3 (ipykernel)",
      "language": "python",
      "name": "python3"
    },
    "language_info": {
      "codemirror_mode": {
        "name": "ipython",
        "version": 3
      },
      "file_extension": ".py",
      "mimetype": "text/x-python",
      "name": "python",
      "nbconvert_exporter": "python",
      "pygments_lexer": "ipython3",
      "version": "3.9.7"
    },
    "colab": {
      "provenance": [],
      "include_colab_link": true
    }
  },
  "nbformat": 4,
  "nbformat_minor": 5
}