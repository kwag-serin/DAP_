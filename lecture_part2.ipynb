{
  "cells": [
    {
      "cell_type": "markdown",
      "metadata": {
        "id": "view-in-github",
        "colab_type": "text"
      },
      "source": [
        "<a href=\"https://colab.research.google.com/github/kwag-serin/DAP_/blob/main/lecture_part2.ipynb\" target=\"_parent\"><img src=\"https://colab.research.google.com/assets/colab-badge.svg\" alt=\"Open In Colab\"/></a>"
      ]
    },
    {
      "cell_type": "code",
      "execution_count": null,
      "id": "59078141-dad2-49a9-bcfb-951749701183",
      "metadata": {
        "id": "59078141-dad2-49a9-bcfb-951749701183",
        "outputId": "80d7ecec-19e3-41ed-ca9f-026d0db2b385"
      },
      "outputs": [
        {
          "name": "stdout",
          "output_type": "stream",
          "text": [
            "[[False False False False False]\n",
            " [False False False False False]\n",
            " [False False False False False]\n",
            " [False False False False False]\n",
            " [False False False False False]]\n"
          ]
        }
      ],
      "source": [
        "import numpy as np\n",
        "\n",
        "# Input\n",
        "arr_size = (5, 5)\n",
        "\n",
        "# Solution\n",
        "bool_arr = np.full((5, 5), False)\n",
        "\n",
        "# Print\n",
        "print(bool_arr)"
      ]
    },
    {
      "cell_type": "code",
      "execution_count": null,
      "id": "4643766b-b84d-4bd4-8b19-cabb2524e367",
      "metadata": {
        "id": "4643766b-b84d-4bd4-8b19-cabb2524e367",
        "outputId": "60a5cf65-2767-45f0-e357-b814249e37af"
      },
      "outputs": [
        {
          "name": "stdout",
          "output_type": "stream",
          "text": [
            "[[0. 0. 0. 1. 0. 0. 0.]\n",
            " [0. 0. 0. 0. 1. 0. 0.]\n",
            " [0. 0. 0. 0. 0. 1. 0.]\n",
            " [0. 0. 0. 0. 0. 0. 1.]\n",
            " [0. 0. 0. 0. 0. 0. 0.]\n",
            " [0. 0. 0. 0. 0. 0. 0.]\n",
            " [0. 0. 0. 0. 0. 0. 0.]]\n"
          ]
        }
      ],
      "source": [
        "# Input\n",
        "size = 7\n",
        "\n",
        "# Solution\n",
        "np_arr = np.eye(7, k=3)\n",
        "\n",
        "# Print\n",
        "print(np_arr)"
      ]
    },
    {
      "cell_type": "code",
      "execution_count": null,
      "id": "a1ec6e76-6f45-489c-aa06-f7fb63927419",
      "metadata": {
        "id": "a1ec6e76-6f45-489c-aa06-f7fb63927419",
        "outputId": "a6babb5b-eac7-4cc2-8f7f-389085645446"
      },
      "outputs": [
        {
          "name": "stdout",
          "output_type": "stream",
          "text": [
            "[ 0  2  4  6  8 10 12 14 16 18 20 22 24 26 28 30 32 34]\n"
          ]
        }
      ],
      "source": [
        "# Input\n",
        "arr = np.arange(35)\n",
        "\n",
        "# Solution\n",
        "arr = np.arange(0, 35, 2)\n",
        "\n",
        "# Print\n",
        "print(arr)"
      ]
    },
    {
      "cell_type": "code",
      "execution_count": null,
      "id": "8aae7cca-4e85-4ff1-974d-0c0473b6d5bb",
      "metadata": {
        "id": "8aae7cca-4e85-4ff1-974d-0c0473b6d5bb",
        "outputId": "ef75ee1b-747c-4911-d4da-1d1e2cf4d859"
      },
      "outputs": [
        {
          "name": "stdout",
          "output_type": "stream",
          "text": [
            "(array([0, 4, 7, 9], dtype=int64),)\n"
          ]
        }
      ],
      "source": [
        "# Input\n",
        "a = np.array([1, 7, 3, 2, 3, 5, 3, 4, 5, 8, 2, 6, 9])\n",
        "b = np.array([1, 2, 10, 8, 3, 4, 9, 4, 9, 8, 5, 3, 5])\n",
        "\n",
        "# Solution\n",
        "idx = np.where(a == b)\n",
        "\n",
        "# Print\n",
        "print(idx)"
      ]
    },
    {
      "cell_type": "code",
      "execution_count": null,
      "id": "a25af4cb-a9fa-432a-8a16-e17f4e69cc0d",
      "metadata": {
        "id": "a25af4cb-a9fa-432a-8a16-e17f4e69cc0d",
        "outputId": "ec1e795b-a742-47f0-f5c1-72e8267f3ba0"
      },
      "outputs": [
        {
          "name": "stdout",
          "output_type": "stream",
          "text": [
            "4.0 2.373422864698694 4.461538461538462\n"
          ]
        }
      ],
      "source": [
        "# Input\n",
        "url = 'https://archive.ics.uci.edu/ml/machine-learning-databases/iris/iris.data'\n",
        "iris = np.genfromtxt(url, delimiter=',', dtype='object')\n",
        "sepallength = np.genfromtxt(url, delimiter=',', dtype='float', usecols=[0])\n",
        "\n",
        "# Solution\n",
        "med, std, avg = np.median(a), np.std(a), np.mean(a)\n",
        "\n",
        "# Print\n",
        "print(med, std, avg)"
      ]
    },
    {
      "cell_type": "code",
      "execution_count": null,
      "id": "d03489e0-3631-4e23-8d1c-2a6d8fbed241",
      "metadata": {
        "id": "d03489e0-3631-4e23-8d1c-2a6d8fbed241",
        "outputId": "2c761a19-ad53-4ce5-cc15-1d17c585fa5b"
      },
      "outputs": [
        {
          "ename": "SyntaxError",
          "evalue": "invalid syntax (Temp/ipykernel_20952/737647188.py, line 11)",
          "output_type": "error",
          "traceback": [
            "\u001b[1;36m  File \u001b[1;32m\"C:\\Users\\b2uty\\AppData\\Local\\Temp/ipykernel_20952/737647188.py\"\u001b[1;36m, line \u001b[1;32m11\u001b[0m\n\u001b[1;33m    unique_positions = ###########################\u001b[0m\n\u001b[1;37m                       ^\u001b[0m\n\u001b[1;31mSyntaxError\u001b[0m\u001b[1;31m:\u001b[0m invalid syntax\n"
          ]
        }
      ],
      "source": [
        "# Input\n",
        "np.random.seed(50)\n",
        "a = np.random.randint(0, 10, 10)\n",
        "print('Array: ', a)\n",
        "\n",
        "# Solution\n",
        "## Create an all True array\n",
        "out = np.unique(a)\n",
        "\n",
        "## Find the index positions of unique elements\n",
        "unique_positions = ###########################\n",
        "\n",
        "## Mark those positions as False\n",
        "out[unique_positions] = ###########\n",
        "\n",
        "print('Duplicate entrie: ', out)"
      ]
    },
    {
      "cell_type": "code",
      "execution_count": null,
      "id": "67af213a-e898-49a9-846d-89901b668ee3",
      "metadata": {
        "id": "67af213a-e898-49a9-846d-89901b668ee3",
        "outputId": "b89d9172-f5ae-4b8a-bc5a-c7088f00e8e7"
      },
      "outputs": [
        {
          "name": "stdout",
          "output_type": "stream",
          "text": [
            "    0\n",
            "21  v\n",
            "22  w\n",
            "23  x\n",
            "24  y\n",
            "25  z\n"
          ]
        }
      ],
      "source": [
        "import pandas as pd\n",
        "\n",
        "# Input\n",
        "ser1 = pd.Series(list('abcedfghijklmnopqrstuvwxyz'))\n",
        "ser2 = pd.Series(np.arange(26))\n",
        "\n",
        "# Solution \n",
        "df = pd.DataFrame(ser1, ser2)\n",
        "\n",
        "# Print\n",
        "print(df.tail())"
      ]
    },
    {
      "cell_type": "code",
      "execution_count": null,
      "id": "e82c893d-079b-4265-80f2-943135c50d9d",
      "metadata": {
        "id": "e82c893d-079b-4265-80f2-943135c50d9d",
        "outputId": "3745eec4-2d4a-4420-d42f-73b4a1f128b8"
      },
      "outputs": [
        {
          "name": "stdout",
          "output_type": "stream",
          "text": [
            "  Manufacturer    Model     Type  Min.Price  Price  Max.Price  MPG.city  \\\n",
            "0        Acura  Integra    Small       12.9   15.9       18.8      25.0   \n",
            "1          NaN   Legend  Midsize       29.2   33.9       38.7      18.0   \n",
            "2         Audi       90  Compact       25.9   29.1       32.3      20.0   \n",
            "3         Audi      100  Midsize        NaN   37.7       44.6      19.0   \n",
            "4          BMW     535i  Midsize        NaN   30.0        NaN      22.0   \n",
            "\n",
            "   MPG.highway             AirBags DriveTrain  ... Passengers  Length  \\\n",
            "0         31.0                None      Front  ...        5.0   177.0   \n",
            "1         25.0  Driver & Passenger      Front  ...        5.0   195.0   \n",
            "2         26.0         Driver only      Front  ...        5.0   180.0   \n",
            "3         26.0  Driver & Passenger        NaN  ...        6.0   193.0   \n",
            "4         30.0                 NaN       Rear  ...        4.0   186.0   \n",
            "\n",
            "   Wheelbase  Width  Turn.circle Rear.seat.room  Luggage.room  Weight  \\\n",
            "0      102.0   68.0         37.0           26.5           NaN  2705.0   \n",
            "1      115.0   71.0         38.0           30.0          15.0  3560.0   \n",
            "2      102.0   67.0         37.0           28.0          14.0  3375.0   \n",
            "3      106.0    NaN         37.0           31.0          17.0  3405.0   \n",
            "4      109.0   69.0         39.0           27.0          13.0  3640.0   \n",
            "\n",
            "    Origin           Make  \n",
            "0  non-USA  Acura Integra  \n",
            "1  non-USA   Acura Legend  \n",
            "2  non-USA        Audi 90  \n",
            "3  non-USA       Audi 100  \n",
            "4  non-USA       BMW 535i  \n",
            "\n",
            "[5 rows x 27 columns]\n",
            "\n",
            "Is there any missing value?:     Manufacturer  Model   Type  Min.Price  Price  Max.Price  MPG.city  \\\n",
            "0          False  False  False      False  False      False     False   \n",
            "1           True  False  False      False  False      False     False   \n",
            "2          False  False  False      False  False      False     False   \n",
            "3          False  False  False       True  False      False     False   \n",
            "4          False  False  False       True  False       True     False   \n",
            "..           ...    ...    ...        ...    ...        ...       ...   \n",
            "88         False  False  False      False  False      False     False   \n",
            "89         False  False  False      False  False      False     False   \n",
            "90         False  False  False      False  False      False     False   \n",
            "91         False  False  False      False  False      False     False   \n",
            "92          True  False  False      False  False      False     False   \n",
            "\n",
            "    MPG.highway  AirBags  DriveTrain  ...  Passengers  Length  Wheelbase  \\\n",
            "0         False    False       False  ...       False   False      False   \n",
            "1         False    False       False  ...       False   False      False   \n",
            "2         False    False       False  ...       False   False      False   \n",
            "3         False    False        True  ...       False   False      False   \n",
            "4         False     True       False  ...       False   False      False   \n",
            "..          ...      ...         ...  ...         ...     ...        ...   \n",
            "88        False    False       False  ...       False   False      False   \n",
            "89        False    False       False  ...       False   False      False   \n",
            "90        False    False       False  ...       False   False      False   \n",
            "91        False    False       False  ...       False   False      False   \n",
            "92        False    False       False  ...       False   False      False   \n",
            "\n",
            "    Width  Turn.circle  Rear.seat.room  Luggage.room  Weight  Origin   Make  \n",
            "0   False        False           False          True   False   False  False  \n",
            "1   False        False           False         False   False   False  False  \n",
            "2   False        False           False         False   False   False  False  \n",
            "3    True        False           False         False   False   False  False  \n",
            "4   False        False           False         False   False   False  False  \n",
            "..    ...          ...             ...           ...     ...     ...    ...  \n",
            "88  False        False           False          True   False    True  False  \n",
            "89  False        False           False         False   False   False  False  \n",
            "90  False        False           False         False   False   False  False  \n",
            "91  False        False           False         False   False   False  False  \n",
            "92  False        False           False         False   False   False  False  \n",
            "\n",
            "[93 rows x 27 columns]\n"
          ]
        }
      ],
      "source": [
        "# Input\n",
        "df = pd.read_csv('https://raw.githubusercontent.com/selva86/datasets/master/Cars93_miss.csv')\n",
        "print(df.head())\n",
        "\n",
        "# Solution\n",
        "print('\\nIs there any missing value?:', df.isnull())"
      ]
    },
    {
      "cell_type": "code",
      "execution_count": null,
      "id": "89c54f8f-a1e0-4172-b758-3b9f996aa944",
      "metadata": {
        "id": "89c54f8f-a1e0-4172-b758-3b9f996aa944"
      },
      "outputs": [],
      "source": []
    }
  ],
  "metadata": {
    "kernelspec": {
      "display_name": "Python 3 (ipykernel)",
      "language": "python",
      "name": "python3"
    },
    "language_info": {
      "codemirror_mode": {
        "name": "ipython",
        "version": 3
      },
      "file_extension": ".py",
      "mimetype": "text/x-python",
      "name": "python",
      "nbconvert_exporter": "python",
      "pygments_lexer": "ipython3",
      "version": "3.9.7"
    },
    "colab": {
      "provenance": [],
      "include_colab_link": true
    }
  },
  "nbformat": 4,
  "nbformat_minor": 5
}